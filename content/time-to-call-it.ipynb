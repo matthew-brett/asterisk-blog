{
 "cells": [
  {
   "cell_type": "markdown",
   "id": "59e04e74",
   "metadata": {},
   "source": [
    "It's time to call it — I don't think the [Julia programming\n",
    "language](https://julialang.org) is going to make it into the data analysis\n",
    "mainstream.\n",
    "\n",
    "You'll see more data on this below.  In summary, there is now some evidence,\n",
    "particularly from Stack Overflow trends, and the Popularity of Programming\n",
    "Languages site, that Julia uptake has plateaued.\n",
    "\n",
    "Some people hoped that Julia would be the One Language to Rule Them All, at\n",
    "least in science.  In order to get there, it needed to have a plausible shot\n",
    "at competing with Python, and to do that, it would need to grow quickly.\n",
    "\n",
    "I think the data here says it isn't growing quickly.  I think Julia is not\n",
    "going to be able to compete with Python, and that it will remain a niche\n",
    "language that is highly specialized in numerical processing.  And, if I had to\n",
    "guess, I would guess that it will start to decline slowly, as it becomes\n",
    "clearer that it is not the language of the future that some had hoped.\n",
    "\n",
    "I can't sensibly comment on why Julia has not grown more quickly, but here are\n",
    "some reasoned critiques:\n",
    "\n",
    "* [Why I no longer recommend Julia](https://yuri.is/not-julia) by Yuri\n",
    "  Vishnevsky.\n",
    "* [What's bad about Julia?](https://viralinstruction.com/posts/badjulia/) by\n",
    "  Jakob Nybo Nissen.\n",
    "* [My experiences with Julia](https://weissmann.pm/julialang/) by Volker\n",
    "  Weissmann.\n",
    "* [Giving up on\n",
    "  Julia](https://www.zverovich.net/2016/05/13/giving-up-on-julia.html) by\n",
    "  Victor Zverovich."
   ]
  },
  {
   "cell_type": "markdown",
   "id": "fd826a7b",
   "metadata": {},
   "source": [
    "## The data\n",
    "\n",
    "This is a further update from my previous three posts on uptake and activity\n",
    "for the [Julia programming language](https://julialang.org).\n",
    "\n",
    "* [Julia in 2019]({filename}/hows-julia.ipynb);\n",
    "* [Julia in 2020]({filename}/hows-julia-2020.ipynb).\n",
    "* [Julia in 2021]({filename}/hows-julia-2021.ipynb).\n",
    "\n",
    "As for the previous posts, the source for this document is a Jupyter Notebook:\n",
    "`time-to-call-it.ipynb` notebook. Get the notebook from [Github repository of\n",
    "this blog](https://github.com/matthew-brett/asterisk-blog).  I've also plotted\n",
    "Julia's Google search trends."
   ]
  },
  {
   "cell_type": "markdown",
   "id": "71e2564a",
   "metadata": {},
   "source": [
    "## Summary\n",
    "\n",
    "As for the previous posts, I collected time-series data from the Julia language\n",
    "repository commits, proportion of Github PRs, and two language ranking sites.\n",
    "\n",
    "* Web searches for Julia are flat and at a low level.\n",
    "* Commits on the main Julia repository have been flat since mid 2019.\n",
    "* Julia commit percentages on Github have been flat since 2018.\n",
    "* TIOBE index scores have been hovering around the 0.5% level since mid\n",
    "  2020 (compared to around 12% for Python).\n",
    "* Jula dropped from 24th to 28th in the Redmonk Programming Ratings, from June\n",
    "  2020 to June 2021 (it's difficult to work out what happened after that).\n",
    "* Stack Overflow trends for Julia show signs of flattening out at around 0.1%\n",
    "  (compared to around 16% for Python).\n",
    "* The Popularity of Programming Languages website has Julia at a fairly flat\n",
    "  0.4% since mid 2020, compared to around 27% for Python.\n",
    "\n",
    "The subheadings below mostly match those from the previous posts.  See those\n",
    "posts for more detail on methods."
   ]
  },
  {
   "cell_type": "markdown",
   "id": "a17c3d21",
   "metadata": {},
   "source": [
    "## Google search trends\n",
    "\n",
    "This is the [graph of worldwide Google searches](https://trends.google.com/trends/explore?date=all&q=%2Fm%2F0j3djl7,%2Fm%2F0212jm,%2Fm%2F0rphppq) for the *topics* Julia (programming language), R (programming language) and Pandas (software):\n",
    "\n",
    "![](images/google_trends_2022_07.png)"
   ]
  },
  {
   "cell_type": "markdown",
   "id": "181422cd",
   "metadata": {},
   "source": [
    "## Health of the Julia repository\n",
    "\n",
    "This is an update on the health of the code repository for the Julia language\n",
    "and its standard libraries."
   ]
  },
  {
   "cell_type": "code",
   "execution_count": 1,
   "id": "a94fed3d",
   "metadata": {
    "hide_input": true
   },
   "outputs": [],
   "source": [
    "from collections import Counter\n",
    "import datetime as dt\n",
    "import itertools\n",
    "\n",
    "import numpy as np\n",
    "\n",
    "%matplotlib inline\n",
    "import matplotlib.pyplot as plt\n",
    "import pandas as pd"
   ]
  },
  {
   "cell_type": "markdown",
   "id": "29f77b23",
   "metadata": {},
   "source": [
    "As for the previous posts, I analyzed commits of the [Julia Language repository](https://github.com/JuliaLang/julia) using some [code by Thomas Caswell](https://gist.github.com/tacaswell/e95cb2d57ca3783ffc40).\n",
    "\n",
    "<!---\n",
    "echo 'time&name' > commits_time_author.csv;\n",
    "git log --no-merges --since=2013-01-01 --pretty=format:'%at&%aN <%aE>' >> commits_time_author.csv\n",
    "-->"
   ]
  },
  {
   "cell_type": "markdown",
   "id": "0b0edcec",
   "metadata": {},
   "source": [
    "There's a copy of the commit data in `julia_commits_current.csv` in\n",
    "[downloads/julia_commits_curent.csv](../downloads/julia_commits_current.csv)."
   ]
  },
  {
   "cell_type": "code",
   "execution_count": 2,
   "id": "cb85fd4f",
   "metadata": {
    "hide_input": true
   },
   "outputs": [],
   "source": [
    "commits = pd.read_csv('downloads/julia_commits_current.csv', sep='&')"
   ]
  },
  {
   "cell_type": "code",
   "execution_count": 3,
   "id": "e1e72096",
   "metadata": {
    "hide_input": true
   },
   "outputs": [],
   "source": [
    "stop_dt = dt.datetime(2022, 7, 9)"
   ]
  },
  {
   "cell_type": "markdown",
   "id": "56a1006d",
   "metadata": {},
   "source": [
    "The next figure is a plot of the number of commits and number of committers per week:"
   ]
  },
  {
   "cell_type": "code",
   "execution_count": 4,
   "id": "693de6fd",
   "metadata": {
    "hide_input": true
   },
   "outputs": [
    {
     "data": {
      "image/png": "[encoded data removed]",
      "text/plain": [
       "<Figure size 432x288 with 2 Axes>"
      ]
     },
     "metadata": {
      "needs_background": "light"
     },
     "output_type": "display_data"
    }
   ],
   "source": [
    "def stats_plotter(ax, left_edges, unq_by_week, col, ylabel):\n",
    "    ln, = ax.step(left_edges,\n",
    "                  unq_by_week[col], color='k', where='post', lw=2)\n",
    "\n",
    "    hln = ax.axhline(unq_by_week[col].mean(), color='forestgreen', zorder=0, lw=2)\n",
    "    ax.set_ylabel(ylabel)\n",
    "    return ln, hln\n",
    "\n",
    "\n",
    "def by_window_binner(ax1, ax2, commits, start, stop, step, window_name):\n",
    "    edges = np.arange(start, stop + step, step)\n",
    "    left_edges = [dt.datetime.fromtimestamp(t) for t in edges[:-1]]\n",
    "\n",
    "    gb = commits.groupby(pd.cut(commits['time'], edges))\n",
    "    unq_by_bin = gb.agg(lambda x: len(set(x)))\n",
    "\n",
    "    stats_plotter(ax1, left_edges, unq_by_bin, 'time', 'commits per {}'.format(window_name))\n",
    "    stats_plotter(ax2, left_edges, unq_by_bin, 'name', 'committers per {}'.format(window_name))\n",
    "\n",
    "start = dt.datetime(2013, 1, 1).timestamp()\n",
    "stop = stop_dt.timestamp()\n",
    "\n",
    "fig, (ax1, ax2) = plt.subplots(2, 1, sharex=True)\n",
    "by_window_binner(ax1, ax2, commits, start, stop, 7*24*60*60, 'week')\n",
    "ax1.set_xlim((dt.datetime(2013, 1, 1), dt.datetime(2020, 2, 7)))\n",
    "fig.autofmt_xdate()"
   ]
  },
  {
   "cell_type": "markdown",
   "id": "1349bab4",
   "metadata": {},
   "source": [
    "## Percentage of all Github pull requests\n",
    "\n",
    "This is an update of the proportion of Github Pull Requests that are in the\n",
    "Julia language, and others, from data scraped by hand from the [Githut 2.0\n",
    "site](https://madnight.github.io/githut).  The latest version of these data is\n",
    "[this link](../downloads/julia_gh_prs_current.csv)"
   ]
  },
  {
   "cell_type": "code",
   "execution_count": 5,
   "id": "92e1a376",
   "metadata": {
    "hide_input": true
   },
   "outputs": [
    {
     "data": {
      "image/png": "[encoded data removed]",
      "text/plain": [
       "<Figure size 432x288 with 1 Axes>"
      ]
     },
     "metadata": {
      "needs_background": "light"
     },
     "output_type": "display_data"
    }
   ],
   "source": [
    "julia_prs = pd.read_csv('downloads/julia_gh_prs_current.csv')\n",
    "julia_prs['Month'] = (julia_prs['Quarter'] - 1) * 3 + 2\n",
    "datish = julia_prs.apply(\n",
    "    lambda x: f\"{x['Year']:0.0f}-{x['Month']:0.0f}\", axis=1)\n",
    "julia_prs.index = pd.to_datetime(datish)\n",
    "jprs = julia_prs.loc[julia_prs.index <= stop_dt]\n",
    "ax = jprs.plot(y='Julia', use_index=True)\n",
    "jprs.plot(y='R', use_index=True, ax=ax)\n",
    "plt.title(\"R and Julia PRs as percentage of all Github PRs\")\n",
    "plt.ylabel('Percentage of all Github PRs')\n",
    "plt.ylim(0);"
   ]
  },
  {
   "cell_type": "markdown",
   "id": "ea19ccf5",
   "metadata": {},
   "source": [
    "Julia's numbers have been steady at about 0.1% since 2019.\n",
    "\n",
    "For comparison, here are the values for Python, R and Julia for the last two years:"
   ]
  },
  {
   "cell_type": "code",
   "execution_count": 6,
   "id": "68ac6005",
   "metadata": {
    "hide_input": true
   },
   "outputs": [
    {
     "data": {
      "text/html": [
       "<div>\n",
       "<style scoped>\n",
       "    .dataframe tbody tr th:only-of-type {\n",
       "        vertical-align: middle;\n",
       "    }\n",
       "\n",
       "    .dataframe tbody tr th {\n",
       "        vertical-align: top;\n",
       "    }\n",
       "\n",
       "    .dataframe thead th {\n",
       "        text-align: right;\n",
       "    }\n",
       "</style>\n",
       "<table border=\"1\" class=\"dataframe\">\n",
       "  <thead>\n",
       "    <tr style=\"text-align: right;\">\n",
       "      <th></th>\n",
       "      <th>Python</th>\n",
       "      <th>R</th>\n",
       "      <th>Julia</th>\n",
       "    </tr>\n",
       "  </thead>\n",
       "  <tbody>\n",
       "    <tr>\n",
       "      <th>2022-02-01</th>\n",
       "      <td>16.689</td>\n",
       "      <td>0.046</td>\n",
       "      <td>0.071</td>\n",
       "    </tr>\n",
       "    <tr>\n",
       "      <th>2021-11-01</th>\n",
       "      <td>17.926</td>\n",
       "      <td>0.078</td>\n",
       "      <td>0.058</td>\n",
       "    </tr>\n",
       "    <tr>\n",
       "      <th>2021-08-01</th>\n",
       "      <td>15.943</td>\n",
       "      <td>0.086</td>\n",
       "      <td>0.079</td>\n",
       "    </tr>\n",
       "    <tr>\n",
       "      <th>2021-05-01</th>\n",
       "      <td>16.351</td>\n",
       "      <td>0.087</td>\n",
       "      <td>0.086</td>\n",
       "    </tr>\n",
       "  </tbody>\n",
       "</table>\n",
       "</div>"
      ],
      "text/plain": [
       "            Python      R  Julia\n",
       "2022-02-01  16.689  0.046  0.071\n",
       "2021-11-01  17.926  0.078  0.058\n",
       "2021-08-01  15.943  0.086  0.079\n",
       "2021-05-01  16.351  0.087  0.086"
      ]
     },
     "execution_count": 6,
     "metadata": {},
     "output_type": "execute_result"
    }
   ],
   "source": [
    "jprs.head(4)[['Python', 'R', 'Julia']]"
   ]
  },
  {
   "cell_type": "markdown",
   "id": "4da5ca94",
   "metadata": {},
   "source": [
    "## TIOBE language index\n",
    "\n",
    "The values here come from [archive.org\n",
    "copies](https://web.archive.org/web/*/https://www.tiobe.com/tiobe-index/) of\n",
    "<https://www.tiobe.com/tiobe-index>.\n",
    "\n",
    "The data file with the index values is\n",
    "[downloads/julia_tiobe_current.csv](../downloads/julia_tiobe_current.csv)."
   ]
  },
  {
   "cell_type": "code",
   "execution_count": 7,
   "id": "34538a54",
   "metadata": {
    "hide_input": true,
    "scrolled": true
   },
   "outputs": [
    {
     "data": {
      "image/png": "[encoded data removed]",
      "text/plain": [
       "<Figure size 432x288 with 1 Axes>"
      ]
     },
     "metadata": {
      "needs_background": "light"
     },
     "output_type": "display_data"
    }
   ],
   "source": [
    "julia_tiobe = pd.read_csv('downloads/julia_tiobe_current.csv')\n",
    "julia_tiobe['pct'] = julia_tiobe['pct'].apply(lambda x : x.strip())\n",
    "julia_tiobe['pct_val'] = julia_tiobe['pct'].apply(\n",
    "    lambda x : float(x[1:] if x.startswith('<') else x))\n",
    "julia_tiobe.index = pd.to_datetime(julia_tiobe['year_month'])\n",
    "jtio = julia_tiobe.loc[julia_tiobe.index <= stop_dt]\n",
    "ax = jtio.plot(y='pct_val', use_index=True)\n",
    "belows = jtio[jtio['pct'].apply(lambda x : x.startswith('<'))]\n",
    "belows.plot(y='pct_val', use_index=True,\n",
    "            style='o', label='below 50th position', ax=ax)\n",
    "plt.title('Julia % score in TIOBE index')\n",
    "plt.xlabel('Date')\n",
    "plt.ylim(0);"
   ]
  },
  {
   "cell_type": "markdown",
   "id": "82da093c",
   "metadata": {},
   "source": [
    "As a reminder, the TIOBE index derives from [counts of search index\n",
    "hits](https://www.tiobe.com/tiobe-index/programming-languages-definition) for\n",
    "particular languages.\n",
    "\n",
    "The graph shows a moderate uptick in the Julia percent score from mid 2020, but this seems to have stabilized since then, with moderate variation."
   ]
  },
  {
   "cell_type": "markdown",
   "id": "dcb8e01d",
   "metadata": {},
   "source": [
    "## Redmonk Programming Language Rankings / Stack Overflow\n",
    "\n",
    "The [Redmonk\n",
    "ratings](https://redmonk.com/sogrady/category/programming-languages) only list\n",
    "the top 20 languages, and Julia is not in the top 20. The text of the [June\n",
    "2020 rankings](https://redmonk.com/sogrady/2020/07/27/language-rankings-6-20)\n",
    "note Julia at +0 change, and the June 2021 page (see below) says that Julia's\n",
    "position then was 24th.  The [January 2021\n",
    "ratings](https://redmonk.com/sogrady/2021/03/01/language-rankings-1-21/) don't\n",
    "mention Julia, but the [June 2021\n",
    "ratings](https://redmonk.com/sogrady/2021/08/05/language-rankings-6-21/) have:\n",
    "\n",
    "> ... as a language we are periodically asked about, it’s worth noting that Julia has actually taken a few steps back. A year ago at this time Julia was poised just outside the Top 20 at #24, but in this quarters run it had dropped back to #28.\n",
    "\n",
    "There's no mention of Julia in the [January 2022 ratings](https://redmonk.com/sogrady/2022/03/28/language-rankings-1-22/)\n",
    "\n",
    "Some data for the Redmonk rankings come from [Stack Overflow\n",
    "data](https://insights.stackoverflow.com/trends).  Here is an update of the\n",
    "percentage of Stack Overflow questions on Julia:\n",
    "\n",
    "![SO Julia](images/so_julia_2022-07.png)\n",
    "\n",
    "This graphic is a screen shot from the [PopularitY of Programming\n",
    "Languages](https://pypl.github.io/PYPL.html) website:\n",
    "\n",
    "![](images/pypl_2022-07.png)\n",
    "\n",
    "Notice the logarithmic scale.  This plot seems to reflect the uptick we saw in\n",
    "the TIOBE index, as well as the subsequent plateau.  The PYPL site notes that\n",
    "\"The raw data comes from Google Trends.\", so PYPL is probably looking at the\n",
    "same data as TIOBE (above)."
   ]
  }
 ],
 "metadata": {
  "celltoolbar": "Edit Metadata",
  "jupytext": {
   "cell_metadata_filter": "all",
   "notebook_metadata_filter": "all,-language_info",
   "split_at_heading": true,
   "use_runtools": true
  },
  "kernelspec": {
   "display_name": "Python 3 (ipykernel)",
   "language": "python",
   "name": "python3"
  },
  "language_info": {
   "codemirror_mode": {
    "name": "ipython",
    "version": 3
   },
   "file_extension": ".py",
   "mimetype": "text/x-python",
   "name": "python",
   "nbconvert_exporter": "python",
   "pygments_lexer": "ipython3",
   "version": "3.9.13"
  }
 },
 "nbformat": 4,
 "nbformat_minor": 5
}
